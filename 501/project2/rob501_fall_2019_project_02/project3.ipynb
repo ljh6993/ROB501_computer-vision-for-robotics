{
 "cells": [
  {
   "cell_type": "code",
   "execution_count": null,
   "metadata": {},
   "outputs": [],
   "source": [
    "import numpy as np\n",
    "\n",
    "def find_jacobian(K, Twc, Wpt):\n",
    "    \"\"\"\n",
    "    Determine the Jacobian for NLS camera pose optimization.\n",
    "\n",
    "    The function computes the Jacobian of an image plane point with respect\n",
    "    to the current camera pose estimate, given a landmark point. The \n",
    "    projection model is the simple pinhole model.\n",
    "\n",
    "    Parameters:\n",
    "    -----------\n",
    "    K    - 3x3 np.array, camera intrinsic calibration matrix.\n",
    "    Twc  - 4x4 np.array, homogenous pose matrix, current guess for camera pose. \n",
    "    Wpt  - 3x1 world point on calibration target (one of n).\n",
    "\n",
    "    Returns:\n",
    "    --------\n",
    "    J  - 2x6 np.array, Jacobian matrix (columns are tx, ty, tz, r, p, q).\n",
    "    \"\"\"\n",
    "    #--- FILL ME IN ---\n",
    "\n",
    "    #------------------\n",
    "\n",
    "    return J\n",
    "\n",
    "\n",
    "\n",
    "\n",
    "\n",
    "\n",
    "def rpy_from_dcm(R):\n",
    "    \"\"\"\n",
    "    Roll, pitch, yaw Euler angles from rotation matrix.\n",
    "\n",
    "    The function computes roll, pitch and yaw angles from the\n",
    "    rotation matrix R. The pitch angle p is constrained to the range\n",
    "    (-pi/2, pi/2].  The returned angles are in radians.\n",
    "\n",
    "    Inputs:\n",
    "    -------\n",
    "    R  - 3x3 orthonormal rotation matrix.\n",
    "\n",
    "    Returns:\n",
    "    --------\n",
    "    rpy  - 3x1 np.array of roll, pitch, yaw Euler angles.\n",
    "    \"\"\"\n",
    "    rpy = np.zeros((3, 1))\n",
    "\n",
    "    # Roll.\n",
    "    rpy[0] = np.arctan2(R[2, 1], R[2, 2])\n",
    "\n",
    "    # Pitch.\n",
    "    sp = -R[2, 0]\n",
    "    cp = np.sqrt(R[0, 0]*R[0, 0] + R[1, 0]*R[1, 0])\n",
    "\n",
    "    if np.abs(cp) > 1e-15:\n",
    "        rpy[1] = np.arctan2(sp, cp)\n",
    "    else:\n",
    "      # Gimbal lock...\n",
    "      rpy[1] = np.pi/2\n",
    "  \n",
    "      if sp < 0:\n",
    "        rpy[1] = -rpy[1]\n",
    "\n",
    "    # Yaw.\n",
    "    rpy[2] = np.arctan2(R[1, 0], R[0, 0])\n",
    "\n",
    "    return rpy\n",
    "\n",
    "\n",
    "\n",
    "def dcm_from_rpy(rpy):\n",
    "    \"\"\"\n",
    "    Rotation matrix from roll, pitch, yaw Euler angles.\n",
    "\n",
    "    The function produces a 3x3 orthonormal rotation matrix R\n",
    "    from the vector rpy containing roll angle r, pitch angle p, and yaw angle\n",
    "    y.  All angles are specified in radians.  We use the aerospace convention\n",
    "    here (see descriptions below).  Note that roll, pitch and yaw angles are\n",
    "    also often denoted by phi, theta, and psi (respectively).\n",
    "\n",
    "    The angles are applied in the following order:\n",
    "\n",
    "     1.  Yaw   -> by angle 'y' in the local (body-attached) frame.\n",
    "     2.  Pitch -> by angle 'p' in the local frame.\n",
    "     3.  Roll  -> by angle 'r' in the local frame.  \n",
    "\n",
    "    Note that this is exactly equivalent to the following fixed-axis\n",
    "    sequence:\n",
    "\n",
    "     1.  Roll  -> by angle 'r' in the fixed frame.\n",
    "     2.  Pitch -> by angle 'p' in the fixed frame.\n",
    "     3.  Yaw   -> by angle 'y' in the fixed frame.\n",
    "\n",
    "    Parameters:\n",
    "    -----------\n",
    "    rpy  - 3x1 np.array of roll, pitch, yaw Euler angles.\n",
    "\n",
    "    Returns:\n",
    "    --------\n",
    "    R  - 3x3 np.array, orthonormal rotation matrix.\n",
    "    \"\"\"\n",
    "    cr = np.cos(rpy[0]).item()\n",
    "    sr = np.sin(rpy[0]).item()\n",
    "    cp = np.cos(rpy[1]).item()\n",
    "    sp = np.sin(rpy[1]).item()\n",
    "    cy = np.cos(rpy[2]).item()\n",
    "    sy = np.sin(rpy[2]).item()\n",
    "\n",
    "    return np.array([[cy*cp, cy*sp*sr - sy*cr, cy*sp*cr + sy*sr],\n",
    "                     [sy*cp, sy*sp*sr + cy*cr, sy*sp*cr - cy*sr],\n",
    "                     [  -sp,   "
   ]
  },
  {
   "cell_type": "code",
   "execution_count": null,
   "metadata": {},
   "outputs": [],
   "source": [
    "import numpy as np\n",
    "from find_jacobian import find_jacobian\n",
    "\n",
    "# Set up test case - fixed parameters.\n",
    "K = np.array([[564.9, 0, 337.3], [0, 564.3, 226.5], [0, 0, 1]])\n",
    "Wpt = np.array([[0.0635, 0, 0]]).T\n",
    "\n",
    "# Camera pose (rotation matrix, translation vector).\n",
    "C_cam = np.array([[ 0.960656116714365, -0.249483426036932,  0.122056730876061],\n",
    "                  [-0.251971275568189, -0.967721063070012,  0.005140075795822],\n",
    "                  [ 0.116834505638601, -0.035692635424156, -0.992509815603182]])\n",
    "t_cam = np.array([[0.201090356081375, 0.114474051344464, 1.193821106321156]]).T\n",
    "\n",
    "Twc = np.hstack((C_cam, t_cam))\n",
    "Twc = np.vstack((Twc, np.array([[0, 0, 0, 1]])))\n",
    "J = find_jacobian(K, Twc, Wpt)\n",
    "print(J)\n",
    "\n",
    "# J =\n",
    "# -477.1016  121.4005   43.3460  -18.8900  592.2179  -71.3193\n",
    "#  130.0713  468.1394  -59.8803  578.8882  -14.6399  -49.5217"
   ]
  },
  {
   "cell_type": "code",
   "execution_count": 1,
   "metadata": {},
   "outputs": [],
   "source": [
    "import numpy as np\n",
    "from find_jacobian import find_jacobian\n",
    "\n",
    "# Set up test case - fixed parameters.\n",
    "K = np.array([[564.9, 0, 337.3], [0, 564.3, 226.5], [0, 0, 1]])\n",
    "Wpt = np.array([[0.0635, 0, 0]]).T\n",
    "\n",
    "# Camera pose (rotation matrix, translation vector).\n",
    "C_cam = np.array([[ 0.960656116714365, -0.249483426036932,  0.122056730876061],\n",
    "                  [-0.251971275568189, -0.967721063070012,  0.005140075795822],\n",
    "                  [ 0.116834505638601, -0.035692635424156, -0.992509815603182]])\n",
    "t_cam = np.array([[0.201090356081375, 0.114474051344464, 1.193821106321156]]).T\n",
    "\n",
    "Twc = np.hstack((C_cam, t_cam))\n",
    "Twc = np.vstack((Twc, np.array([[0, 0, 0, 1]])))"
   ]
  },
  {
   "cell_type": "code",
   "execution_count": 3,
   "metadata": {},
   "outputs": [
    {
     "data": {
      "text/plain": [
       "array([[ 0.96065612, -0.24948343,  0.12205673,  0.20109036],\n",
       "       [-0.25197128, -0.96772106,  0.00514008,  0.11447405],\n",
       "       [ 0.11683451, -0.03569264, -0.99250982,  1.19382111],\n",
       "       [ 0.        ,  0.        ,  0.        ,  1.        ]])"
      ]
     },
     "execution_count": 3,
     "metadata": {},
     "output_type": "execute_result"
    }
   ],
   "source": [
    "Twc"
   ]
  },
  {
   "cell_type": "code",
   "execution_count": 4,
   "metadata": {},
   "outputs": [
    {
     "data": {
      "text/plain": [
       "array([[0.0635],\n",
       "       [0.    ],\n",
       "       [0.    ]])"
      ]
     },
     "execution_count": 4,
     "metadata": {},
     "output_type": "execute_result"
    }
   ],
   "source": [
    "Wpt"
   ]
  },
  {
   "cell_type": "code",
   "execution_count": null,
   "metadata": {},
   "outputs": [],
   "source": []
  }
 ],
 "metadata": {
  "kernelspec": {
   "display_name": "Python 3",
   "language": "python",
   "name": "python3"
  },
  "language_info": {
   "codemirror_mode": {
    "name": "ipython",
    "version": 3
   },
   "file_extension": ".py",
   "mimetype": "text/x-python",
   "name": "python",
   "nbconvert_exporter": "python",
   "pygments_lexer": "ipython3",
   "version": "3.7.3"
  }
 },
 "nbformat": 4,
 "nbformat_minor": 2
}
