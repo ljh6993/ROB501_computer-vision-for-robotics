{
 "cells": [
  {
   "cell_type": "code",
   "execution_count": 1,
   "metadata": {},
   "outputs": [],
   "source": [
    "\n",
    "# use at last\n",
    "\n",
    "def average_point(sorted_p):\n",
    "    distance = 10\n",
    "    # sort column 0 then column 1\n",
    "    # idex = np.lexsort([ori_point[:, 1], ori_point[:, 0]])\n",
    "\n",
    "    # print(sorted_p)\n",
    "\n",
    "    feature_list = np.empty([0, 2])\n",
    "    feature_list = np.vstack([feature_list, sorted_p[0]])  # total 48 feature from 0-47\n",
    "    # feature_list numpy\n",
    "    feature_data = 0\n",
    "    tf = False\n",
    "    data_list = []\n",
    "    for i in range(len(sorted_p)):\n",
    "        reference = sorted_p[i]\n",
    "        for i in range(len(feature_list)):\n",
    "            if np.linalg.norm(feature_list[i] - reference) < distance:\n",
    "                # np.array_equal(feature_list[i],reference):\n",
    "                tf = True\n",
    "                feature_data = i\n",
    "                break\n",
    "            tf = False\n",
    "            feature_data = i + 1\n",
    "\n",
    "        if tf == True:\n",
    "            data_list.append(feature_data)\n",
    "        else:\n",
    "            feature_list = np.vstack([feature_list, reference])\n",
    "            data_list.append(feature_data)\n",
    "    data_list = np.array(data_list).reshape([-1, 1])\n",
    "    sorted_p = np.hstack((sorted_p, data_list))\n",
    "\n",
    "    position = []\n",
    "    for i in range(48):\n",
    "        position.append(np.mean(sorted_p[np.where(sorted_p[:, 2] == i)], axis=0))\n",
    "    position = np.array(position)\n",
    "    position = position[:, [0, 1]]\n",
    "\n",
    "    return (position)\n",
    "\n",
    "\n",
    "# part 1.5\n",
    "# check cross color\n",
    "def filter_p(ori_point, I_bin, width, height):\n",
    "    new_point = []\n",
    "    detect_size = 3\n",
    "\n",
    "    for i in range(len(ori_point)):\n",
    "        x = ori_point[i, 1]\n",
    "        y = ori_point[i, 0]\n",
    "        x = int(x)\n",
    "        y = int(y)\n",
    "        if x in range(detect_size, width - detect_size) and y in range(detect_size, height - detect_size):\n",
    "            p_1 = I_bin[y - detect_size, x - detect_size]\n",
    "            p_2 = I_bin[y - detect_size, x + detect_size]\n",
    "            p_3 = I_bin[y + detect_size, x + detect_size]\n",
    "            p_4 = I_bin[y + detect_size, x - detect_size]\n",
    "            p_5 = I_bin[y - detect_size, x]\n",
    "            p_6 = I_bin[y, x + detect_size]\n",
    "            p_7 = I_bin[y + detect_size, x]\n",
    "            p_8 = I_bin[y, x - detect_size]\n",
    "            tf_1 = ((p_1 == p_3) and (p_2 == p_4) and (p_2 * p_4) != (p_1 * p_3))\n",
    "            tf_2 = ((p_5 == p_7) and (p_6 == p_8) and (p_5 * p_7) != (p_6 * p_8))\n",
    "\n",
    "            if tf_1 or tf_2:\n",
    "                new_point.append(ori_point[i])\n",
    "\n",
    "    new_point = np.array(new_point)\n",
    "\n",
    "    return new_point\n",
    "\n",
    "\n",
    "def saddle(filter_point, I):\n",
    "    ###implement saddle point\n",
    "    # part 2\n",
    "    # build a small patch for each point\n",
    "    patch_size = 20  # need to be even\n",
    "    sdpoint_arr = np.empty((0, 2))\n",
    "    for i in range(len(filter_point)):\n",
    "        # saddle point position\n",
    "        sdpoint_x = filter_point[i][1]\n",
    "        sdpoint_y = filter_point[i][0]\n",
    "\n",
    "        #     a1=sdpoint_x-patch_size/2\n",
    "        #     a2=sdpoint_x+patch_size/2\n",
    "        #     a3=sdpoint_y-patch_size/2\n",
    "        #     a4=sdpoint_y+patch_size/2\n",
    "        #     print(a1,a2,a3,a4)\n",
    "        #  do the saddle point based on I_binary\n",
    "        patch = I[int(sdpoint_y - patch_size / 2):int(sdpoint_y + patch_size / 2),\n",
    "                int(sdpoint_x - patch_size / 2):int(sdpoint_x + patch_size / 2)]\n",
    "        m, n = patch.shape\n",
    "        # clear B\n",
    "        B = []\n",
    "        # x2 xy y2 x y 1 (m,n) begin from 0,0\n",
    "        A = np.empty((0, 6))\n",
    "        for x in range(0, n):\n",
    "            for y in range(0, m):\n",
    "                A = np.vstack((A, [x ** 2, x * y, y ** 2, x, y, 1.]))\n",
    "                B.append(patch[y, x])\n",
    "        # w=(a,b,c,d,e,f) for parameters\n",
    "        w = np.linalg.lstsq(A, B, rcond=None)[0]\n",
    "        (a, b, c, d, e, f) = w\n",
    "        # solve the intersection\n",
    "        # [2a b],[b 2c]\n",
    "        C = np.array([[float(2 * a), float(b)], [float(b), float(2 * c)]])\n",
    "        D = np.array([-d, -e])\n",
    "        pt = np.linalg.pinv(C).dot(D)\n",
    "        # correct the position of pt\n",
    "        # print(pt.shape)\n",
    "        pt = pt - [patch_size / 2, patch_size / 2] + [sdpoint_x, sdpoint_y]\n",
    "        pt = pt.reshape((1, 2))\n",
    "        # print(pt)(x,y)\n",
    "        sdpoint_arr = np.append(sdpoint_arr, pt, axis=0)\n",
    "\n",
    "        # print(sdpoint_arr.shape) #(n,2)\n",
    "    sdpoint_arr = sdpoint_arr[:, [1, 0]]\n",
    "    return sdpoint_arr\n",
    "\n",
    "\n",
    "def boundary_delete(array, bpoly):\n",
    "    point_arr = np.empty((0, 2))\n",
    "    x = np.array(bpoly[0, :])\n",
    "    y = np.array(bpoly[1, :])\n",
    "    # print(len(point_arr)\n",
    "    for i in range(len(array)):\n",
    "        x_point = array[i, 1]\n",
    "        y_point = array[i, 0]\n",
    "        y_1 = (y[1] - y[0]) / (x[1] - x[0]) * (x_point - x[1]) + y[1] + 5  # y_1 should be smaller than y_point\n",
    "        y_3 = (y[3] - y[2]) / (x[3] - x[2]) * (x_point - x[3]) + y[3] - 5\n",
    "        x_2 = (y_point - y[2]) / ((y[2] - y[1]) / (x[2] - x[1])) + x[2] - 5\n",
    "        x_4 = (y_point - y[0]) / ((y[0] - y[3]) / (x[0] - x[3])) + x[0] + 5\n",
    "\n",
    "        #         y_1 = (y[1, 1] - y[1, 0]) / (x[0, 1] - x[0, 0]) * (x_point - x[0, 1]) + y[1, 1]  # y_1 should be smaller than y_point\n",
    "        #         y_3 = (y[1, 3] - y[1, 2]) / (x[0, 3] - x[0, 2]) * (x_point - x[0, 3]) + y[1, 3]\n",
    "        #         x_2 = (y_point - y[1, 2]) / ((y[1, 2] - y[1, 1]) / (x[0, 2] - x[0, 1])) + x[0, 2]\n",
    "        #         x_4 = (y_point - y[1, 0]) / ((y[1, 0] - y[1, 3]) / (x[0, 0] - x[0, 3])) + x[0, 0]\n",
    "\n",
    "        if (y_point > y_1 and y_point < y_3 and x_point < x_2 and x_point > x_4):\n",
    "            point_arr = np.vstack((point_arr, array[i]))\n",
    "\n",
    "    return point_arr\n",
    "\n",
    "\n",
    "from scipy.ndimage.filters import *\n",
    "\n",
    "\n",
    "def cross_junctions(I, bounds, Wpts):\n",
    "    # part one\n",
    "    # change to binary\n",
    "    I_binary = np.where(I > 115, 0, 1)\n",
    "    # gaussian_filter filter\n",
    "    I_gaussian = gaussian_filter(I, sigma=1)\n",
    "\n",
    "    I_copy = I.copy()\n",
    "\n",
    "    # harris corner\n",
    "    # calculate gradient\n",
    "\n",
    "    Ix, Iy = np.gradient(I_binary)\n",
    "    Ix = gaussian_filter(Ix, sigma=1)\n",
    "    Iy = gaussian_filter(Iy, sigma=1)\n",
    "\n",
    "    # 2d array\n",
    "    Ixx = Ix ** 2\n",
    "    Ixy = Iy * Ix\n",
    "    Iyy = Iy ** 2\n",
    "    # Ixx=gaussian_filter(Ixx, sigma=2)\n",
    "    # Ixy=gaussian_filter(Ixy, sigma=2)\n",
    "    # Iyy=gaussian_filter(Iyy, sigma=2)\n",
    "    height = I_binary.shape[0]  # 480\n",
    "    width = I_binary.shape[1]  # 640\n",
    "\n",
    "    k = np.array([[1, 1, 1], [1, 1, 1], [1, 1, 1]])\n",
    "\n",
    "    Sxx = convolve(Ixx, k, mode='nearest')\n",
    "    Sxy = convolve(Ixy, k, mode='nearest')\n",
    "    Syy = convolve(Iyy, k, mode='nearest')\n",
    "\n",
    "    det = (Sxx * Syy) - (Sxy ** 2)\n",
    "    trace = Sxx + Syy\n",
    "    r = det - 0.04 * (trace ** 2)\n",
    "\n",
    "    # array_np = np.array(r)\n",
    "    low_values_flags = r < 0  # Where values are low\n",
    "    r[low_values_flags] = 0\n",
    "\n",
    "    # max=np.amax(r)\n",
    "    # print(max)\n",
    "\n",
    "    # print(array_np)(y,x)\n",
    "    point_array = []\n",
    "    ## show the plot\n",
    "    for i in range(r.shape[0]):\n",
    "        for j in range(r.shape[1]):\n",
    "            if r[i, j] != 0:\n",
    "                # I_copy[i,j]=255\n",
    "                point_array.append([i, j])\n",
    "    # point_array is integer listxxxx turn to be a numpy array\n",
    "    point_array = np.array(point_array)\n",
    "\n",
    "    # print(point_array)\n",
    "    # plt.plot(point_array[:,1],point_array[:,0],'ro', color='r')\n",
    "\n",
    "    # filter point (y,x)\n",
    "    # filter_point=filter_p(point_array,I_binary,width,height)\n",
    "\n",
    "    # run the function\n",
    "    # sdpoint(y,x)\n",
    "\n",
    "    sdpoint = np.empty((0, 2))\n",
    "\n",
    "    sdpoint = saddle(point_array, I_gaussian)\n",
    "\n",
    "    sdpoint = boundary_delete(sdpoint, bounds)\n",
    "    sdpoint = filter_p(sdpoint, I_binary, width, height)\n",
    "\n",
    "   \n",
    "    # np.set_printoptions(threshold=np.inf)\n",
    "    # sdpoint\n",
    "\n",
    "    # need to sort point !!\n",
    "    # print(sorted_point)\n",
    "\n",
    "    final_result = average_point(sdpoint)\n",
    "    #   Ipts  - 2xn np.array of cross-junctions (x, y), relative to the upper\n",
    "    #   left corner of I. These should be floating-point values.\n",
    "    # $\n",
    "    idex = np.lexsort([final_result[:, 1], final_result[:, 0]])\n",
    "    \n",
    "    final_result = final_result[idex, :]\n",
    "    \n",
    "    order=np.array([])\n",
    "    for i in range(6):\n",
    "        ordd=np.argsort(final_result[i*8:(i+1)*8,1])  \n",
    "        ordd=ordd+8*i\n",
    "        order=np.append(order,ordd)\n",
    "\n",
    "    final_result=final_result[order.astype(int)]\n",
    "    \n",
    "    \n",
    "    \n",
    "    \n",
    "    \n",
    "\n",
    "    plt.imshow(I)\n",
    "    plt.plot(final_result[:,1],final_result[:,0],'ro', color='r')\n",
    "\n",
    "\n",
    "\n",
    "    Ipts = np.zeros((2, 48))\n",
    "    Ipts = final_result.transpose()[[1, 0]]\n",
    "\n",
    "    # ------------------\n",
    "    return Ipts\n"
   ]
  },
  {
   "cell_type": "code",
   "execution_count": 2,
   "metadata": {},
   "outputs": [
    {
     "ename": "ModuleNotFoundError",
     "evalue": "No module named 'mat4py'",
     "output_type": "error",
     "traceback": [
      "\u001b[0;31m---------------------------------------------------------------------------\u001b[0m",
      "\u001b[0;31mModuleNotFoundError\u001b[0m                       Traceback (most recent call last)",
      "\u001b[0;32m<ipython-input-2-499344b43ed0>\u001b[0m in \u001b[0;36m<module>\u001b[0;34m\u001b[0m\n\u001b[1;32m      1\u001b[0m \u001b[0;32mimport\u001b[0m \u001b[0mnumpy\u001b[0m \u001b[0;32mas\u001b[0m \u001b[0mnp\u001b[0m\u001b[0;34m\u001b[0m\u001b[0;34m\u001b[0m\u001b[0m\n\u001b[1;32m      2\u001b[0m \u001b[0;32mfrom\u001b[0m \u001b[0mimageio\u001b[0m \u001b[0;32mimport\u001b[0m \u001b[0mimread\u001b[0m\u001b[0;34m\u001b[0m\u001b[0;34m\u001b[0m\u001b[0m\n\u001b[0;32m----> 3\u001b[0;31m \u001b[0;32mfrom\u001b[0m \u001b[0mmat4py\u001b[0m \u001b[0;32mimport\u001b[0m \u001b[0mloadmat\u001b[0m\u001b[0;34m\u001b[0m\u001b[0;34m\u001b[0m\u001b[0m\n\u001b[0m\u001b[1;32m      4\u001b[0m \u001b[0;32mimport\u001b[0m \u001b[0mmatplotlib\u001b[0m\u001b[0;34m.\u001b[0m\u001b[0mpyplot\u001b[0m \u001b[0;32mas\u001b[0m \u001b[0mplt\u001b[0m\u001b[0;34m\u001b[0m\u001b[0;34m\u001b[0m\u001b[0m\n\u001b[1;32m      5\u001b[0m \u001b[0;34m\u001b[0m\u001b[0m\n",
      "\u001b[0;31mModuleNotFoundError\u001b[0m: No module named 'mat4py'"
     ]
    }
   ],
   "source": [
    "\n",
    "\n",
    "import numpy as np\n",
    "from imageio import imread\n",
    "from mat4py import loadmat\n",
    "import matplotlib.pyplot as plt\n",
    "\n",
    "\n",
    "# Load the boundary.\n",
    "#$\n",
    "#bpoly = np.array([[514.0,1176,834,214],[10 ,398 ,820 ,558]])\n",
    "bpoly = np.array([[160 ,410, 588, 345], [251, 2 ,182 ,420]])\n",
    "#bpoly = np.array([[222, 503 ,501, 220],[173 ,175 ,383, 386]])\n",
    "\n",
    "\n",
    "\n",
    "# Load the world points.\n",
    "#bpoly = np.array(loadmat(\"bboxes.mat\")[\"bpolyh1\"])\n",
    "Wpts = np.array(loadmat(\"world_pts.mat\")[\"world_pts\"])\n",
    "SP = np.array(loadmat(\"saddle_points.mat\")[\"Ipts\"])\n",
    "# Load the example target image.\n",
    "#I = imread(\"image_000350.png\")\n",
    "I=np.loadtxt(\"Testcase2.txt\")\n",
    "Ipts = cross_junctions(I, bpoly, Wpts)\n",
    "\n",
    "# # You can plot the points to check!\n",
    "print(Ipts)\n",
    "\n",
    "\n"
   ]
  },
  {
   "cell_type": "code",
   "execution_count": 121,
   "metadata": {},
   "outputs": [],
   "source": [
    "A=Ipts[[1,0]]"
   ]
  },
  {
   "cell_type": "code",
   "execution_count": 122,
   "metadata": {},
   "outputs": [],
   "source": [
    "B=A.transpose()"
   ]
  },
  {
   "cell_type": "code",
   "execution_count": 50,
   "metadata": {
    "collapsed": true
   },
   "outputs": [
    {
     "data": {
      "text/plain": [
       "array([[206.01853913, 263.41006699],\n",
       "       [206.41720668, 292.59396625],\n",
       "       [206.74225587, 321.55761819],\n",
       "       [207.15078282, 350.41811021],\n",
       "       [207.28884618, 379.16328646],\n",
       "       [207.80304169, 435.9522276 ],\n",
       "       [207.81684278, 407.69369153],\n",
       "       [208.29144699, 463.98280861],\n",
       "       [235.18569158, 263.18107921],\n",
       "       [235.27507501, 292.35562211],\n",
       "       [235.49097566, 321.40272431],\n",
       "       [235.69212504, 350.20205579],\n",
       "       [236.16871542, 378.93451154],\n",
       "       [236.17120952, 407.32807486],\n",
       "       [236.45798019, 435.53843694],\n",
       "       [236.53817378, 463.56507783],\n",
       "       [264.35922522, 262.88044743],\n",
       "       [264.52823   , 292.22153218],\n",
       "       [264.53604034, 321.00159751],\n",
       "       [264.75533131, 378.53454257],\n",
       "       [264.76652129, 350.19241789],\n",
       "       [264.8870319 , 435.2370842 ],\n",
       "       [265.01695709, 407.1063241 ],\n",
       "       [265.2030172 , 463.24235741],\n",
       "       [293.21432815, 262.67703863],\n",
       "       [293.31587836, 291.88752814],\n",
       "       [293.3278146 , 349.55163997],\n",
       "       [293.33101939, 406.66169766],\n",
       "       [293.40357142, 320.88202779],\n",
       "       [293.4181411 , 378.28450888],\n",
       "       [293.46840241, 462.93720774],\n",
       "       [293.60945025, 434.88788026],\n",
       "       [321.84472898, 434.43052349],\n",
       "       [321.8992964 , 462.51783826],\n",
       "       [321.97058134, 377.88665926],\n",
       "       [322.07577565, 406.34280699],\n",
       "       [322.14631597, 320.57615649],\n",
       "       [322.20279777, 349.40881583],\n",
       "       [322.24430487, 262.46602634],\n",
       "       [322.27622159, 291.64311399],\n",
       "       [349.89628046, 461.9660327 ],\n",
       "       [350.20850667, 434.20660691],\n",
       "       [350.3167611 , 405.88679096],\n",
       "       [350.55506467, 348.96999277],\n",
       "       [350.59637974, 377.61745795],\n",
       "       [350.75616487, 291.41557993],\n",
       "       [350.8145869 , 320.27752951],\n",
       "       [351.05749388, 262.33286575]])"
      ]
     },
     "execution_count": 50,
     "metadata": {},
     "output_type": "execute_result"
    }
   ],
   "source": [
    "#B y,x"
   ]
  },
  {
   "cell_type": "code",
   "execution_count": 125,
   "metadata": {},
   "outputs": [
    {
     "data": {
      "text/plain": [
       "array([[160, 410, 588, 345],\n",
       "       [251,   2, 182, 420]])"
      ]
     },
     "execution_count": 125,
     "metadata": {},
     "output_type": "execute_result"
    }
   ],
   "source": [
    "bpoly"
   ]
  },
  {
   "cell_type": "code",
   "execution_count": 127,
   "metadata": {},
   "outputs": [
    {
     "data": {
      "text/plain": [
       "160"
      ]
     },
     "execution_count": 127,
     "metadata": {},
     "output_type": "execute_result"
    }
   ],
   "source": [
    "bpoly[0,0]  #x0"
   ]
  },
  {
   "cell_type": "code",
   "execution_count": 129,
   "metadata": {},
   "outputs": [
    {
     "data": {
      "text/plain": [
       "410"
      ]
     },
     "execution_count": 129,
     "metadata": {},
     "output_type": "execute_result"
    }
   ],
   "source": [
    "bpoly[1,0]#y0#"
   ]
  },
  {
   "cell_type": "code",
   "execution_count": null,
   "metadata": {},
   "outputs": [],
   "source": [
    "bpoly[0,1]"
   ]
  },
  {
   "cell_type": "code",
   "execution_count": 134,
   "metadata": {
    "scrolled": true
   },
   "outputs": [
    {
     "data": {
      "text/plain": [
       "0.7833941580641407"
      ]
     },
     "execution_count": 134,
     "metadata": {},
     "output_type": "execute_result"
    }
   ],
   "source": [
    "np.arctan(-(bpoly[1,1]-bpoly[1,0])/(bpoly[0,1]-bpoly[0,0]))"
   ]
  },
  {
   "cell_type": "code",
   "execution_count": 5,
   "metadata": {},
   "outputs": [
    {
     "data": {
      "text/plain": [
       "0.7648421872844885"
      ]
     },
     "execution_count": 5,
     "metadata": {},
     "output_type": "execute_result"
    }
   ],
   "source": [
    "np.cos(0.7)"
   ]
  },
  {
   "cell_type": "code",
   "execution_count": null,
   "metadata": {},
   "outputs": [],
   "source": []
  },
  {
   "cell_type": "code",
   "execution_count": null,
   "metadata": {},
   "outputs": [],
   "source": []
  },
  {
   "cell_type": "code",
   "execution_count": null,
   "metadata": {},
   "outputs": [],
   "source": []
  },
  {
   "cell_type": "code",
   "execution_count": 120,
   "metadata": {
    "collapsed": true
   },
   "outputs": [
    {
     "data": {
      "text/plain": [
       "array([[115.23206578, 349.22196419],\n",
       "       [ 88.69293173, 374.61427302],\n",
       "       [114.48566502, 400.2035698 ],\n",
       "       [ 61.86372894, 400.48674492],\n",
       "       [140.04862542, 425.38780086],\n",
       "       [ 88.00387813, 425.78780057],\n",
       "       [113.87206616, 451.09652487],\n",
       "       [139.22571531, 475.67676873],\n",
       "       [167.52325079, 299.05549818],\n",
       "       [141.51653713, 323.97370155],\n",
       "       [166.68640527, 349.83838629],\n",
       "       [140.7195795 , 374.82591978],\n",
       "       [165.93171964, 400.11921545],\n",
       "       [165.11022658, 450.28731749],\n",
       "       [164.30527819, 500.30237651],\n",
       "       [189.14436148, 523.88020362],\n",
       "       [193.29858318, 274.25787314],\n",
       "       [192.41198983, 324.8165174 ],\n",
       "       [191.59783962, 375.08067908],\n",
       "       [216.04168922, 399.93260972],\n",
       "       [190.72401374, 424.97622956],\n",
       "       [215.23987754, 449.50494921],\n",
       "       [190.00793978, 474.59071648],\n",
       "       [214.29339947, 498.7270758 ],\n",
       "       [218.70428301, 249.92008305],\n",
       "       [242.98764042, 275.67474251],\n",
       "       [217.79291892, 300.04850718],\n",
       "       [242.11959077, 325.41608595],\n",
       "       [217.01499238, 350.19643894],\n",
       "       [241.16785339, 375.0670639 ],\n",
       "       [240.36360715, 424.35492871],\n",
       "       [239.30136322, 473.38351956],\n",
       "       [243.96071745, 225.7555007 ],\n",
       "       [267.96513698, 251.59156873],\n",
       "       [267.0115866 , 301.24745057],\n",
       "       [266.00968748, 350.64381484],\n",
       "       [289.73132782, 375.22613354],\n",
       "       [265.07921217, 399.81171394],\n",
       "       [288.68088703, 423.96799454],\n",
       "       [263.98801134, 448.69122731],\n",
       "       [291.77437075, 277.20552681],\n",
       "       [314.99726408, 302.06425026],\n",
       "       [290.79054442, 326.21452967],\n",
       "       [338.12454812, 327.01620679],\n",
       "       [313.81266261, 351.05532061],\n",
       "       [360.47408486, 351.35140196],\n",
       "       [336.86343993, 375.28735921],\n",
       "       [312.73378786, 399.58876294]])"
      ]
     },
     "execution_count": 120,
     "metadata": {},
     "output_type": "execute_result"
    }
   ],
   "source": [
    "order=np.array([])\n",
    "for i in range(6):\n",
    "    ordd=np.argsort(B[i*8:(i+1)*8,1])\n",
    "    ordd=ordd+8*i\n",
    "    order=np.append(order,ordd)\n",
    "\n",
    "B[order.astype(int)]\n",
    "\n"
   ]
  },
  {
   "cell_type": "code",
   "execution_count": null,
   "metadata": {},
   "outputs": [],
   "source": []
  }
 ],
 "metadata": {
  "kernelspec": {
   "display_name": "Python 3",
   "language": "python",
   "name": "python3"
  },
  "language_info": {
   "codemirror_mode": {
    "name": "ipython",
    "version": 3
   },
   "file_extension": ".py",
   "mimetype": "text/x-python",
   "name": "python",
   "nbconvert_exporter": "python",
   "pygments_lexer": "ipython3",
   "version": "3.7.4"
  }
 },
 "nbformat": 4,
 "nbformat_minor": 2
}
