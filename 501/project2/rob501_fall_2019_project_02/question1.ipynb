{
 "cells": [
  {
   "cell_type": "code",
   "execution_count": 3,
   "metadata": {},
   "outputs": [],
   "source": [
    "# import numpy as np\n",
    "# #from numpy.linalg import inv, lstsq\n",
    "\n",
    "# def saddle_point(I):\n",
    "#     \"\"\"\n",
    "#     Locate saddle point in an image patch.\n",
    "\n",
    "#     The function identifies the subpixel centre of a cross-junction in the\n",
    "#     image patch I, by fitting a hyperbolic paraboloid to the patch, and then \n",
    "#     finding the critical point of that paraboloid.\n",
    "\n",
    "#     Note that the location of “'p' is relative to (-0.5, -0.5) ”at the upper\n",
    "#     left corner of the patch, i.e., the pixels are treated as covering an \n",
    "#     area of one unit square.\n",
    "\n",
    "#     Parameters:\n",
    "#     -----------\n",
    "#     I  - Single-band (greyscale) image patch as np.array (e.g., uint8, float).\n",
    "\n",
    "#     Returns:\n",
    "#     --------\n",
    "#     pt  - 2x1 np.array, subpixel location of saddle point in I (x, y coords).\n",
    "#     \"\"\"\n",
    "#     #--- FILL ME IN ---\n",
    "\n",
    "#     m, n = I.shape\n",
    "    \n",
    "#     B=I.reshape((-1,1))\n",
    "#     #x2 xy y2 x y 1 (m,n) begin from 0,0\n",
    "#     A = np.empty((0,6))\n",
    "#     for x in range(n):\n",
    "#         for y in range(m):\n",
    "#             A=np.vstack((A,[x**2,x*y,y**2,x,y,1]))\n",
    "            \n",
    "#     # w=(a,b,c,d,e,f) for parameters\n",
    "#     (w,_,_,_)=np.linalg.lstsq(A, B,rcond=None)\n",
    "#     (a,b,c,d,e,f)=w\n",
    "#     print(w)\n",
    "#     #solve the intersection\n",
    "#     #[2a b],[b 2c]\n",
    "#     C=np.array([[float(2*a),float(b)],[float(b),float(2*c)]])\n",
    "\n",
    "#     D=np.array([-d,-e])\n",
    "\n",
    "#     pt=np.linalg.inv(C).dot(D)\n",
    "    \n",
    "#     #------------------\n",
    "    \n",
    "\n",
    "#     return pt\n",
    "\n"
   ]
  },
  {
   "cell_type": "code",
   "execution_count": 2,
   "metadata": {},
   "outputs": [
    {
     "name": "stdout",
     "output_type": "stream",
     "text": [
      "[[ 1.80039913e-17]\n",
      " [ 1.13064616e-02]\n",
      " [ 7.06529536e-18]\n",
      " [-1.07411386e-01]\n",
      " [-1.07411386e-01]\n",
      " [ 1.52040816e+00]]\n",
      "Saddle point is at: (9.50, 9.50)\n"
     ]
    },
    {
     "name": "stderr",
     "output_type": "stream",
     "text": [
      "//anaconda3/lib/python3.7/site-packages/ipykernel_launcher.py:36: FutureWarning: `rcond` parameter will change to the default of machine precision times ``max(M, N)`` where M and N are the input matrix dimensions.\n",
      "To use the future default and silence this warning we advise to pass `rcond=None`, to keep using the old, explicitly pass `rcond=-1`.\n"
     ]
    }
   ],
   "source": [
    "import numpy as np\n",
    "#from saddle_point import saddle_point\n",
    "\n",
    "# Build non-smooth but noise-free test patch.\n",
    "Il = np.hstack((np.ones((10, 10)), np.zeros((10, 10)))) \n",
    "Ir = np.hstack((np.zeros((10, 10)), np.ones((10, 10))))\n",
    "I = np.vstack((Il, Ir))\n",
    "\n",
    "pt = saddle_point(I)\n",
    "print('Saddle point is at: (%.2f, %.2f)' % (pt[0], pt[1]))"
   ]
  },
  {
   "cell_type": "code",
   "execution_count": 12,
   "metadata": {},
   "outputs": [
    {
     "data": {
      "text/plain": [
       "(400, 1)"
      ]
     },
     "execution_count": 12,
     "metadata": {},
     "output_type": "execute_result"
    }
   ],
   "source": [
    "B=I.reshape((-1,1))\n",
    "B.shape"
   ]
  },
  {
   "cell_type": "code",
   "execution_count": 13,
   "metadata": {},
   "outputs": [],
   "source": [
    "A = np.empty((0,6))\n",
    "for x in range(20):\n",
    "    for y in range(20):\n",
    "        A=np.vstack((A,[x**2,x*y,y**2,x,y,1]))"
   ]
  },
  {
   "cell_type": "code",
   "execution_count": 14,
   "metadata": {},
   "outputs": [
    {
     "data": {
      "text/plain": [
       "(400, 6)"
      ]
     },
     "execution_count": 14,
     "metadata": {},
     "output_type": "execute_result"
    }
   ],
   "source": [
    "A.shape"
   ]
  },
  {
   "cell_type": "code",
   "execution_count": 15,
   "metadata": {},
   "outputs": [
    {
     "name": "stderr",
     "output_type": "stream",
     "text": [
      "//anaconda3/lib/python3.7/site-packages/ipykernel_launcher.py:1: FutureWarning: `rcond` parameter will change to the default of machine precision times ``max(M, N)`` where M and N are the input matrix dimensions.\n",
      "To use the future default and silence this warning we advise to pass `rcond=None`, to keep using the old, explicitly pass `rcond=-1`.\n",
      "  \"\"\"Entry point for launching an IPython kernel.\n"
     ]
    }
   ],
   "source": [
    "(w,_,_,_)=np.linalg.lstsq(A, B)"
   ]
  },
  {
   "cell_type": "code",
   "execution_count": 16,
   "metadata": {},
   "outputs": [
    {
     "data": {
      "text/plain": [
       "array([[ 1.80039913e-17],\n",
       "       [ 1.13064616e-02],\n",
       "       [ 7.06529536e-18],\n",
       "       [-1.07411386e-01],\n",
       "       [-1.07411386e-01],\n",
       "       [ 1.52040816e+00]])"
      ]
     },
     "execution_count": 16,
     "metadata": {},
     "output_type": "execute_result"
    }
   ],
   "source": [
    "w"
   ]
  },
  {
   "cell_type": "code",
   "execution_count": 17,
   "metadata": {},
   "outputs": [],
   "source": [
    "(a,b,c,d,e,f)=w\n",
    "\n",
    "#solve the intersection\n",
    "#[2a b],[b 2c]\n",
    "C=np.array([[float(2*a),float(b)],[float(b),float(2*c)]])\n",
    "\n",
    "D=np.array([-d,-e])\n",
    "\n",
    "pt=np.linalg.inv(C).dot(D)"
   ]
  },
  {
   "cell_type": "code",
   "execution_count": 9,
   "metadata": {},
   "outputs": [
    {
     "data": {
      "text/plain": [
       "array([[9.5],\n",
       "       [9.5]])"
      ]
     },
     "execution_count": 9,
     "metadata": {},
     "output_type": "execute_result"
    }
   ],
   "source": [
    "pt\n"
   ]
  },
  {
   "cell_type": "code",
   "execution_count": 7,
   "metadata": {},
   "outputs": [
    {
     "name": "stdout",
     "output_type": "stream",
     "text": [
      "[ 1.80039913e-17  1.13064616e-02  7.06529536e-18 -1.07411386e-01\n",
      " -1.07411386e-01  1.52040816e+00]\n",
      "[[9.5]\n",
      " [9.5]]\n",
      "Saddle point is at: (9.50, 9.50)\n"
     ]
    }
   ],
   "source": [
    "import numpy as np\n",
    "from numpy.linalg import inv, lstsq\n",
    "\n",
    "\n",
    "def saddle_point(I):\n",
    "    \"\"\"\n",
    "    Locate saddle point in an image patch.\n",
    "\n",
    "    The function identifies the subpixel centre of a cross-junction in the\n",
    "    image patch I, by fitting a hyperbolic paraboloid to the patch, and then\n",
    "    finding the critical point of that paraboloid.\n",
    "\n",
    "    Note that the location of “'p' is relative to (-0.5, -0.5) ”at the upper\n",
    "    left corner of the patch, i.e., the pixels are treated as covering an\n",
    "    area of one unit square.\n",
    "\n",
    "    Parameters:\n",
    "    -----------\n",
    "    I  - Single-band (greyscale) image patch as np.array (e.g., uint8, float).\n",
    "\n",
    "    Returns:\n",
    "    --------\n",
    "    pt  - 2x1 np.array, subpixel location of saddle point in I (x, y coords).\n",
    "    \"\"\"\n",
    "    # --- FILL ME IN ---\n",
    "\n",
    "    m, n = I.shape\n",
    "\n",
    "    # B = I.reshape((m*n,))\n",
    "    # print(B)\n",
    "    B=[]\n",
    "    # x2 xy y2 x y 1 (m,n) begin from 0,0\n",
    "    A = np.empty((0, 6))\n",
    "    for x in range(0,n):\n",
    "        for y in range(0,m):\n",
    "            A = np.vstack((A, [x ** 2, x * y, y ** 2, x, y, 1.]))\n",
    "            B.append(I[y, x])\n",
    "    # w=(a,b,c,d,e,f) for parameters\n",
    "    w = lstsq(A, B,rcond=None)[0]\n",
    "    print(w)\n",
    "    (a, b, c, d, e, f) = w\n",
    "    # solve the intersection\n",
    "    # [2a b],[b 2c]\n",
    "    C = np.array([[float(2 * a), float(b)], [float(b), float(2 * c)]])\n",
    "\n",
    "    D = np.array([-d, -e])\n",
    "\n",
    "    pt = inv(C).dot(D)\n",
    "    pt=pt.reshape(2,1)\n",
    "    print(pt)\n",
    "\n",
    "    # ------------------\n",
    "\n",
    "    return pt\n",
    "\n",
    "\n",
    "import numpy as np\n",
    "#from saddle_point import saddle_point\n",
    "\n",
    "# Build non-smooth but noise-free test patch.\n",
    "Il = np.hstack((np.ones((10, 10)), np.zeros((10, 10)))) \n",
    "Ir = np.hstack((np.zeros((10, 10)), np.ones((10, 10))))\n",
    "I = np.vstack((Il, Ir))\n",
    "\n",
    "pt = saddle_point(I)\n",
    "print('Saddle point is at: (%.2f, %.2f)' % (pt[0], pt[1]))\n"
   ]
  },
  {
   "cell_type": "code",
   "execution_count": 8,
   "metadata": {},
   "outputs": [
    {
     "name": "stdout",
     "output_type": "stream",
     "text": [
      "[[1. 1. 1. 1. 1. 1. 1. 1. 1. 1. 0. 0. 0. 0. 0. 0. 0. 0. 0. 0.]\n",
      " [1. 1. 1. 1. 1. 1. 1. 1. 1. 1. 0. 0. 0. 0. 0. 0. 0. 0. 0. 0.]\n",
      " [1. 1. 1. 1. 1. 1. 1. 1. 1. 1. 0. 0. 0. 0. 0. 0. 0. 0. 0. 0.]\n",
      " [1. 1. 1. 1. 1. 1. 1. 1. 1. 1. 0. 0. 0. 0. 0. 0. 0. 0. 0. 0.]\n",
      " [1. 1. 1. 1. 1. 1. 1. 1. 1. 1. 0. 0. 0. 0. 0. 0. 0. 0. 0. 0.]\n",
      " [1. 1. 1. 1. 1. 1. 1. 1. 1. 1. 0. 0. 0. 0. 0. 0. 0. 0. 0. 0.]\n",
      " [1. 1. 1. 1. 1. 1. 1. 1. 1. 1. 0. 0. 0. 0. 0. 0. 0. 0. 0. 0.]\n",
      " [1. 1. 1. 1. 1. 1. 1. 1. 1. 1. 0. 0. 0. 0. 0. 0. 0. 0. 0. 0.]\n",
      " [1. 1. 1. 1. 1. 1. 1. 1. 1. 1. 0. 0. 0. 0. 0. 0. 0. 0. 0. 0.]\n",
      " [1. 1. 1. 1. 1. 1. 1. 1. 1. 1. 0. 0. 0. 0. 0. 0. 0. 0. 0. 0.]\n",
      " [0. 0. 0. 0. 0. 0. 0. 0. 0. 0. 1. 1. 1. 1. 1. 1. 1. 1. 1. 1.]\n",
      " [0. 0. 0. 0. 0. 0. 0. 0. 0. 0. 1. 1. 1. 1. 1. 1. 1. 1. 1. 1.]\n",
      " [0. 0. 0. 0. 0. 0. 0. 0. 0. 0. 1. 1. 1. 1. 1. 1. 1. 1. 1. 1.]\n",
      " [0. 0. 0. 0. 0. 0. 0. 0. 0. 0. 1. 1. 1. 1. 1. 1. 1. 1. 1. 1.]\n",
      " [0. 0. 0. 0. 0. 0. 0. 0. 0. 0. 1. 1. 1. 1. 1. 1. 1. 1. 1. 1.]\n",
      " [0. 0. 0. 0. 0. 0. 0. 0. 0. 0. 1. 1. 1. 1. 1. 1. 1. 1. 1. 1.]\n",
      " [0. 0. 0. 0. 0. 0. 0. 0. 0. 0. 1. 1. 1. 1. 1. 1. 1. 1. 1. 1.]\n",
      " [0. 0. 0. 0. 0. 0. 0. 0. 0. 0. 1. 1. 1. 1. 1. 1. 1. 1. 1. 1.]\n",
      " [0. 0. 0. 0. 0. 0. 0. 0. 0. 0. 1. 1. 1. 1. 1. 1. 1. 1. 1. 1.]\n",
      " [0. 0. 0. 0. 0. 0. 0. 0. 0. 0. 1. 1. 1. 1. 1. 1. 1. 1. 1. 1.]]\n"
     ]
    }
   ],
   "source": [
    "print(I)"
   ]
  },
  {
   "cell_type": "code",
   "execution_count": null,
   "metadata": {},
   "outputs": [],
   "source": []
  }
 ],
 "metadata": {
  "kernelspec": {
   "display_name": "Python 3",
   "language": "python",
   "name": "python3"
  },
  "language_info": {
   "codemirror_mode": {
    "name": "ipython",
    "version": 3
   },
   "file_extension": ".py",
   "mimetype": "text/x-python",
   "name": "python",
   "nbconvert_exporter": "python",
   "pygments_lexer": "ipython3",
   "version": "3.7.3"
  }
 },
 "nbformat": 4,
 "nbformat_minor": 2
}
